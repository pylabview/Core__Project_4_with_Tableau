{
 "cells": [
  {
   "cell_type": "markdown",
   "id": "c2370783-8cf7-42df-b438-188a52320ce1",
   "metadata": {},
   "source": [
    "# (Core) Project 4 with Tableau"
   ]
  },
  {
   "cell_type": "markdown",
   "id": "bf48b56a-e94b-47e0-80bb-4631e43a134b",
   "metadata": {},
   "source": [
    "[Tableau Workbook](https://public.tableau.com/app/profile/rodrigo.arguello.serrano/viz/CoreProject4withTableau_16814424149380/Story1)"
   ]
  },
  {
   "cell_type": "markdown",
   "id": "6c3ad726-7efb-48c9-9549-a294ee18f00a",
   "metadata": {},
   "source": [
    "-  Q: What is the most common type of crime?\n",
    ">THEFT\n",
    "\n",
    "- Q: Which district has the most crimes? Which has the least?\n",
    "> Distric 8 has the most crimes, Distric 21 the %less\n",
    "\n",
    "- Q: Which day of the week has the most crimes?\n",
    "> Firdays\n",
    "\n",
    "- Q: What months of the year have higher-than-average crime?abs\n",
    "> August\n",
    "\n",
    "- Q: How much has crime increased or decreased from 2001 to the most recent month?\n",
    "> ~53% the crirme decrease\n",
    "\n",
    "- Q: Are crimes expected to increase or decrease over the next year?\n",
    "> None\n",
    "\n"
   ]
  },
  {
   "cell_type": "code",
   "execution_count": null,
   "id": "3a1ac68f-a599-4994-951a-d9344879a6a8",
   "metadata": {},
   "outputs": [],
   "source": []
  }
 ],
 "metadata": {
  "kernelspec": {
   "display_name": "Python 3 (ipykernel)",
   "language": "python",
   "name": "python3"
  },
  "language_info": {
   "codemirror_mode": {
    "name": "ipython",
    "version": 3
   },
   "file_extension": ".py",
   "mimetype": "text/x-python",
   "name": "python",
   "nbconvert_exporter": "python",
   "pygments_lexer": "ipython3",
   "version": "3.9.15"
  }
 },
 "nbformat": 4,
 "nbformat_minor": 5
}
